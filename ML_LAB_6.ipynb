{
  "nbformat": 4,
  "nbformat_minor": 0,
  "metadata": {
    "colab": {
      "provenance": []
    },
    "kernelspec": {
      "name": "python3",
      "display_name": "Python 3"
    },
    "language_info": {
      "name": "python"
    }
  },
  "cells": [
    {
      "cell_type": "markdown",
      "source": [
        "##Practical 6\n",
        "\n",
        "Aim: Design a simple AND boolean function using perceptron algorithm\n",
        "- Take Bipolar inputs\n",
        "\n",
        "\n",
        "<table>\n",
        "<tr>\n",
        "  <th> x1 </th>\n",
        "  <th> x2 </th>\n",
        "  <th> o/p </th>\n",
        "</tr>\n",
        "<tr>\n",
        "  <td> -1 </td>\n",
        "  <td> -1 </td>\n",
        "  <td> -1 </td>\n",
        "</tr>\n",
        "<tr>\n",
        "  <td> -1 </td>\n",
        "  <td>  1 </td>\n",
        "  <td> -1 </td>\n",
        "</tr>\n",
        "<tr>\n",
        "  <td>  1 </td>\n",
        "  <td> -1 </td>\n",
        "  <td> -1 </td>\n",
        "</tr>\n",
        "<tr>\n",
        "  <td>  1 </td>\n",
        "  <td>  1 </td>\n",
        "  <td>  1 </td>\n",
        "</tr>\n",
        "</table>\n",
        "\n",
        "- Step Function\n",
        "\n",
        "\n",
        "```\n",
        "       ------- 1\n",
        "      |\n",
        "------------\n",
        "      |\n",
        "-1 ----\n",
        "```\n",
        "\n"
      ],
      "metadata": {
        "id": "YTk7u44vOh7-"
      }
    },
    {
      "cell_type": "code",
      "source": [
        "import numpy as np"
      ],
      "metadata": {
        "id": "nh1bIVIwR_t1"
      },
      "execution_count": null,
      "outputs": []
    },
    {
      "cell_type": "code",
      "execution_count": null,
      "metadata": {
        "id": "z6PcuwgFNct7"
      },
      "outputs": [],
      "source": [
        "def activation_function(x):\n",
        "  if x>=0 : return 1\n",
        "  else: return -1"
      ]
    },
    {
      "cell_type": "code",
      "source": [
        "# INPUTS\n",
        "X = np.array([[-1, -1], [-1, 1], [1, -1], [1, 1]])\n",
        "Y = np.array([-1, -1, -1, 1])\n"
      ],
      "metadata": {
        "id": "0RJPOBkHRtW1"
      },
      "execution_count": null,
      "outputs": []
    },
    {
      "cell_type": "code",
      "source": [
        "def train_perceptron(X, Y, weights, bias, learning_rate, epochs):\n",
        "    # Training loop\n",
        "    for epoch in range(epochs):\n",
        "        print(f\"Epoch {epoch + 1}\")\n",
        "        for i in range(len(X)):\n",
        "            # Calculate the net input\n",
        "            net_input = np.dot(X[i], weights) + bias\n",
        "\n",
        "            # Predict output\n",
        "            y_pred = activation_function(net_input)\n",
        "\n",
        "            # Update weights and bias if prediction is wrong\n",
        "            if y_pred != Y[i]:\n",
        "                error = Y[i] - y_pred\n",
        "                weights += learning_rate * error * X[i]\n",
        "                bias += learning_rate * error\n",
        "\n",
        "            # Display the updated weights and bias\n",
        "            print(f\"Updated weights: {weights}, Updated bias: {bias}\")\n",
        "\n",
        "    return weights, bias"
      ],
      "metadata": {
        "id": "VVC4mqqjSBJm"
      },
      "execution_count": null,
      "outputs": []
    },
    {
      "cell_type": "code",
      "source": [
        "# Initialize weights manually\n",
        "initial_weights = np.array([0.5, -0.5])  # Example of manual initialization\n",
        "initial_bias = 0.0  # Initialize bias manually"
      ],
      "metadata": {
        "id": "sFVCPvJgjYOx"
      },
      "execution_count": null,
      "outputs": []
    },
    {
      "cell_type": "code",
      "source": [
        "# Train the perceptron\n",
        "learning_rate = 0.1\n",
        "epochs = 2\n",
        "weights, bias = train_perceptron(X, Y, initial_weights, initial_bias, learning_rate, epochs)"
      ],
      "metadata": {
        "colab": {
          "base_uri": "https://localhost:8080/"
        },
        "id": "XU89_pgCiTmU",
        "outputId": "19da9391-511b-41eb-d458-ede62d50cfd0"
      },
      "execution_count": null,
      "outputs": [
        {
          "output_type": "stream",
          "name": "stdout",
          "text": [
            "Epoch 1\n",
            "Updated weights: [ 0.7 -0.3], Updated bias: -0.2\n",
            "Updated weights: [ 0.7 -0.3], Updated bias: -0.2\n",
            "Updated weights: [ 0.5 -0.1], Updated bias: -0.4\n",
            "Updated weights: [0.7 0.1], Updated bias: -0.2\n",
            "Epoch 2\n",
            "Updated weights: [0.7 0.1], Updated bias: -0.2\n",
            "Updated weights: [0.7 0.1], Updated bias: -0.2\n",
            "Updated weights: [0.5 0.3], Updated bias: -0.4\n",
            "Updated weights: [0.5 0.3], Updated bias: -0.4\n"
          ]
        }
      ]
    },
    {
      "cell_type": "code",
      "source": [
        "def test_perceptron(X, weights, bias):\n",
        "    for x in X:\n",
        "        net_input = np.dot(x, weights) + bias\n",
        "        y_pred = activation_function(net_input)\n",
        "        print(f\"Input: {x}, Predicted Output: {y_pred}\")\n",
        "\n",
        "# Test on the same input\n",
        "test_perceptron(X, weights, bias)"
      ],
      "metadata": {
        "colab": {
          "base_uri": "https://localhost:8080/"
        },
        "id": "m_eBiq0Zig2G",
        "outputId": "f690f721-aa58-46dc-d3e6-7aa46d92b701"
      },
      "execution_count": null,
      "outputs": [
        {
          "output_type": "stream",
          "name": "stdout",
          "text": [
            "Input: [-1 -1], Predicted Output: -1\n",
            "Input: [-1  1], Predicted Output: -1\n",
            "Input: [ 1 -1], Predicted Output: -1\n",
            "Input: [1 1], Predicted Output: 1\n"
          ]
        }
      ]
    },
    {
      "cell_type": "code",
      "source": [],
      "metadata": {
        "id": "OUqbDVdejivf"
      },
      "execution_count": null,
      "outputs": []
    }
  ]
}