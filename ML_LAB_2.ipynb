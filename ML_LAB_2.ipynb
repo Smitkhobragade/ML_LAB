{
  "nbformat": 4,
  "nbformat_minor": 0,
  "metadata": {
    "colab": {
      "provenance": []
    },
    "kernelspec": {
      "name": "python3",
      "display_name": "Python 3"
    },
    "language_info": {
      "name": "python"
    }
  },
  "cells": [
    {
      "cell_type": "markdown",
      "source": [
        "## Lab 2 (ML)\n",
        "### Name: Smit Khobragade\n",
        "### Roll no.: 64\n",
        "### Sec: A\n"
      ],
      "metadata": {
        "id": "VdfW2TwMHge6"
      }
    },
    {
      "cell_type": "markdown",
      "source": [
        "![Untitled.png](data:image/png;base64,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)"
      ],
      "metadata": {
        "id": "AzD8hgxIHkdr"
      }
    },
    {
      "cell_type": "code",
      "source": [
        "import numpy as np\n",
        "\n",
        "def more_general(h1, h2):\n",
        "    more_general_parts = []\n",
        "    for x, y in zip(h1, h2):\n",
        "        mg = x == \"?\" or (x != \"0\" and (x == y or y == \"0\"))\n",
        "        more_general_parts.append(mg)\n",
        "    return all(more_general_parts)\n",
        "\n",
        "def more_specific(h1, h2):\n",
        "    return more_general(h2, h1)\n",
        "\n",
        "def get_general_hypothesis(n):\n",
        "    return [\"?\"] * n\n",
        "\n",
        "def get_specific_hypothesis(n):\n",
        "    return [\"0\"] * n\n",
        "\n",
        "def min_generalizations(h, d):\n",
        "    h_new = list(h)\n",
        "    for i in range(len(h)):\n",
        "        if not more_general([h[i]], [d[i]]):\n",
        "            h_new[i] = d[i] if h[i] == \"0\" else \"?\"\n",
        "    return [tuple(h_new)]\n",
        "\n",
        "def min_specializations(h, domains, d):\n",
        "    results = []\n",
        "    for i in range(len(h)):\n",
        "        if h[i] == \"?\":\n",
        "            for val in domains[i]:\n",
        "                if d[i] != val:\n",
        "                    h_new = h[:i] + (val,) + h[i+1:]\n",
        "                    results.append(h_new)\n",
        "        elif h[i] != \"0\":\n",
        "            h_new = h[:i] + (\"0\",) + h[i+1:]\n",
        "            results.append(h_new)\n",
        "    return results\n",
        "\n",
        "def candidate_elimination(examples):\n",
        "    domains = [list(set([ex[i] for ex in examples])) for i in range(len(examples[0]) - 1)]\n",
        "    n = len(domains)\n",
        "\n",
        "    G = {tuple(get_general_hypothesis(n))}\n",
        "    S = {tuple(get_specific_hypothesis(n))}\n",
        "\n",
        "    for index, ex in enumerate(examples):\n",
        "        x, label = ex[:-1], ex[-1]\n",
        "\n",
        "        if label == 'Yes': # Positive example\n",
        "            G = {g for g in G if more_general(g, x)}\n",
        "            S_new = S.copy()\n",
        "            for s in S:\n",
        "                if not more_general(s, x):\n",
        "                    S_new.remove(s)\n",
        "                    S_new.update(min_generalizations(s, x))\n",
        "            S = {s for s in S_new if any(more_general(g, s) for g in G)}\n",
        "        else: # Negative example\n",
        "            S = {s for s in S if not more_general(s, x)}\n",
        "            G_new = G.copy()\n",
        "            for g in G:\n",
        "                if more_general(g, x):\n",
        "                    G_new.remove(g)\n",
        "                    G_new.update(min_specializations(g, domains, x))\n",
        "            G = {g for g in G_new if any(more_general(g, s) for s in S)}\n",
        "\n",
        "        # hypotheses after each example\n",
        "        print(f\"Dataset {index + 1}: {ex}\")\n",
        "        print(f\"S{index + 1} = {S}\")\n",
        "        print(f\"G{index + 1} = {G}\\n\")\n",
        "\n",
        "    return S, G\n",
        "\n",
        "examples = [\n",
        "    ('Sunny', 'Warm', 'Normal', 'Strong', 'Warm', 'Same', 'Yes'),\n",
        "    ('Sunny', 'Warm', 'High', 'Strong', 'Warm', 'Same', 'Yes'),\n",
        "    ('Rainy', 'Cold', 'High', 'Strong', 'Warm', 'Change', 'No'),\n",
        "    ('Sunny', 'Warm', 'High', 'Strong', 'Cool', 'Change', 'Yes')\n",
        "]\n",
        "\n",
        "S, G = candidate_elimination(examples)\n",
        "print(\"Final specific hypotheses S:\")\n",
        "for s in S:\n",
        "    print(s)\n",
        "print(\"\\nFinal general hypotheses G:\")\n",
        "for g in G:\n",
        "    print(g)\n"
      ],
      "metadata": {
        "id": "9TaJMfvESZTN",
        "colab": {
          "base_uri": "https://localhost:8080/"
        },
        "outputId": "9ffcf221-3687-471a-ea24-be05be5b95ce"
      },
      "execution_count": null,
      "outputs": [
        {
          "output_type": "stream",
          "name": "stdout",
          "text": [
            "Dataset 1: ('Sunny', 'Warm', 'Normal', 'Strong', 'Warm', 'Same', 'Yes')\n",
            "S1 = {('Sunny', 'Warm', 'Normal', 'Strong', 'Warm', 'Same')}\n",
            "G1 = {('?', '?', '?', '?', '?', '?')}\n",
            "\n",
            "Dataset 2: ('Sunny', 'Warm', 'High', 'Strong', 'Warm', 'Same', 'Yes')\n",
            "S2 = {('Sunny', 'Warm', '?', 'Strong', 'Warm', 'Same')}\n",
            "G2 = {('?', '?', '?', '?', '?', '?')}\n",
            "\n",
            "Dataset 3: ('Rainy', 'Cold', 'High', 'Strong', 'Warm', 'Change', 'No')\n",
            "S3 = {('Sunny', 'Warm', '?', 'Strong', 'Warm', 'Same')}\n",
            "G3 = {('?', '?', '?', '?', '?', 'Same'), ('?', 'Warm', '?', '?', '?', '?'), ('Sunny', '?', '?', '?', '?', '?')}\n",
            "\n",
            "Dataset 4: ('Sunny', 'Warm', 'High', 'Strong', 'Cool', 'Change', 'Yes')\n",
            "S4 = {('Sunny', 'Warm', '?', 'Strong', '?', '?')}\n",
            "G4 = {('?', 'Warm', '?', '?', '?', '?'), ('Sunny', '?', '?', '?', '?', '?')}\n",
            "\n",
            "Final specific hypotheses S:\n",
            "('Sunny', 'Warm', '?', 'Strong', '?', '?')\n",
            "\n",
            "Final general hypotheses G:\n",
            "('?', 'Warm', '?', '?', '?', '?')\n",
            "('Sunny', '?', '?', '?', '?', '?')\n"
          ]
        }
      ]
    },
    {
      "cell_type": "code",
      "source": [],
      "metadata": {
        "id": "JcfsydbcEJ1I"
      },
      "execution_count": null,
      "outputs": []
    }
  ]
}